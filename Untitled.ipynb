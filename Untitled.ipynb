{
 "cells": [
  {
   "cell_type": "markdown",
   "id": "9cd89c6d",
   "metadata": {},
   "source": [
    "# Projeto ETL"
   ]
  },
  {
   "cell_type": "raw",
   "id": "6c99bd6f",
   "metadata": {},
   "source": [
    "# Para quem não sabe, ETL é o processo de extração, tratamento e carregamento de dados oriundos das mais diversas bases possíveis.\n",
    "\n",
    "# OBJETIVO DO PROJETO: pegar dados da força áerea brasileira.Vou validá-los, limpá-los e tratá-los, para posterior apresentação.\n",
    "# Tudo isso, evidentemente, será feito utilizando a linguagem de programação Python"
   ]
  },
  {
   "cell_type": "code",
   "execution_count": null,
   "id": "33923abb",
   "metadata": {},
   "outputs": [],
   "source": []
  }
 ],
 "metadata": {
  "kernelspec": {
   "display_name": "Python 3",
   "language": "python",
   "name": "python3"
  },
  "language_info": {
   "codemirror_mode": {
    "name": "ipython",
    "version": 3
   },
   "file_extension": ".py",
   "mimetype": "text/x-python",
   "name": "python",
   "nbconvert_exporter": "python",
   "pygments_lexer": "ipython3",
   "version": "3.8.8"
  }
 },
 "nbformat": 4,
 "nbformat_minor": 5
}
